{
 "cells": [
  {
   "cell_type": "code",
   "execution_count": 2,
   "metadata": {},
   "outputs": [
    {
     "name": "stdout",
     "output_type": "stream",
     "text": [
      "<class 'function'>\n"
     ]
    }
   ],
   "source": [
    "def my_first_func():\n",
    "    \"\"\"\n",
    "    This is a funtion\n",
    "    \"\"\"\n",
    "    print('This is my first function!')\n",
    "    \n",
    "print(type(my_first_func))"
   ]
  },
  {
   "cell_type": "code",
   "execution_count": 7,
   "metadata": {},
   "outputs": [
    {
     "name": "stdout",
     "output_type": "stream",
     "text": [
      "\n",
      "    This is a funtion\n",
      "    \n"
     ]
    }
   ],
   "source": [
    "print(my_first_func.__doc__)"
   ]
  },
  {
   "cell_type": "code",
   "execution_count": 9,
   "metadata": {},
   "outputs": [
    {
     "name": "stdout",
     "output_type": "stream",
     "text": [
      "A is [1, 2, 3, 4]\n",
      "B is [1, 2, 3, 4]\n"
     ]
    }
   ],
   "source": [
    "a = [1, 2, 3]\n",
    "b = a\n",
    "a.append(4)\n",
    "print('A is {}'.format(a))\n",
    "print('B is {}'.format(b))"
   ]
  },
  {
   "cell_type": "code",
   "execution_count": 17,
   "metadata": {},
   "outputs": [
    {
     "name": "stdout",
     "output_type": "stream",
     "text": [
      "[1, 2, 3, 4, 5, 5, 5]\n",
      "[1, 2, 3, 4, 5, 5, 5, 5]\n"
     ]
    }
   ],
   "source": [
    "from copy import deepcopy\n",
    "\n",
    "def append_element(some_list, element):\n",
    "    int_list = deepcopy(some_list)\n",
    "    int_list.append(element)\n",
    "    return int_list\n",
    "    \n",
    "b = append_element(a, 5)\n",
    "print(a)\n",
    "print(b)"
   ]
  },
  {
   "cell_type": "code",
   "execution_count": 15,
   "metadata": {},
   "outputs": [
    {
     "name": "stdout",
     "output_type": "stream",
     "text": [
      "[1, 2, 3, 4, 5, 5, 5]\n"
     ]
    }
   ],
   "source": [
    "print(a)"
   ]
  },
  {
   "cell_type": "code",
   "execution_count": 19,
   "metadata": {},
   "outputs": [
    {
     "ename": "TypeError",
     "evalue": "unsupported operand type(s) for +: 'int' and 'str'",
     "output_type": "error",
     "traceback": [
      "\u001b[1;31m---------------------------------------------------------------------------\u001b[0m",
      "\u001b[1;31mTypeError\u001b[0m                                 Traceback (most recent call last)",
      "\u001b[1;32m<ipython-input-19-a7b2ce0aab22>\u001b[0m in \u001b[0;36m<module>\u001b[1;34m()\u001b[0m\n\u001b[1;32m----> 1\u001b[1;33m \u001b[1;36m5\u001b[0m \u001b[1;33m+\u001b[0m \u001b[1;34m'5'\u001b[0m\u001b[1;33m\u001b[0m\u001b[0m\n\u001b[0m",
      "\u001b[1;31mTypeError\u001b[0m: unsupported operand type(s) for +: 'int' and 'str'"
     ]
    }
   ],
   "source": [
    "5 + '5'"
   ]
  },
  {
   "cell_type": "code",
   "execution_count": 22,
   "metadata": {},
   "outputs": [
    {
     "name": "stdout",
     "output_type": "stream",
     "text": [
      "True\n",
      "True\n"
     ]
    }
   ],
   "source": [
    "a = 5\n",
    "print(isinstance(a, int))\n",
    "\n",
    "b = 4.5\n",
    "print(isinstance(b , (int, float)))"
   ]
  },
  {
   "cell_type": "code",
   "execution_count": 31,
   "metadata": {},
   "outputs": [
    {
     "name": "stdout",
     "output_type": "stream",
     "text": [
      "<built-in method capitalize of str object at 0x0000000005151D68>\n",
      "1\n"
     ]
    }
   ],
   "source": [
    "message = \"This is a mesasge\"\n",
    "print(getattr(message, 'capitalize'))\n",
    "\n",
    "numbers = [1, 2, 3]\n",
    "print(numbers.__iter__().__next__())"
   ]
  },
  {
   "cell_type": "code",
   "execution_count": 34,
   "metadata": {},
   "outputs": [
    {
     "name": "stdout",
     "output_type": "stream",
     "text": [
      "True\n",
      "True\n",
      "True\n",
      "['a', 'b', 'c', 'd', 'e', 'f', 'g', 'h', 'i', 'j', 'k', 'l', 'm', 'n', 'o', 'p', 'q', 'r', 's', 't', 'u', 'v', 'w', 'x', 'y', 'z']\n"
     ]
    }
   ],
   "source": [
    "def is_iterable(obj):\n",
    "    \"\"\"\n",
    "    Check if the object passed is an iterable\n",
    "    \"\"\"\n",
    "    try:\n",
    "        iter(obj)\n",
    "        return True\n",
    "    except TypeError:\n",
    "        return False\n",
    "    \n",
    "print(is_iterable(\"I love partying!\"))\n",
    "print(is_iterable({n:n*2 for n in range(10)}))\n",
    "print(is_iterable([1, 2, 3]))\n",
    "\n",
    "\n",
    "def convert_to_list(Obj):\n",
    "    \"\"\"\n",
    "    Convert an iterable to list, if it is not\n",
    "    \"\"\"\n",
    "    if not isinstance(Obj, list) and is_iterable(Obj): \n",
    "        return list(Obj)\n",
    "    else:\n",
    "        return Obj\n",
    "    \n",
    "\n",
    "print(convert_to_list(\"abcdefghijklmnopqrstuvwxyz\"))"
   ]
  },
  {
   "cell_type": "code",
   "execution_count": 49,
   "metadata": {},
   "outputs": [
    {
     "name": "stdout",
     "output_type": "stream",
     "text": [
      "247\n"
     ]
    }
   ],
   "source": [
    "%run some_module.py\n",
    "# from some_module import PI, f # This throws an error, don't know why?\n",
    "a = f(245)\n",
    "print(a)"
   ]
  },
  {
   "cell_type": "code",
   "execution_count": 40,
   "metadata": {},
   "outputs": [
    {
     "name": "stdout",
     "output_type": "stream",
     "text": [
      "C:\\ProgramData\\Anaconda3\\python.exe\n"
     ]
    }
   ],
   "source": [
    "import sys\n",
    "print(sys.executable)"
   ]
  },
  {
   "cell_type": "code",
   "execution_count": 61,
   "metadata": {},
   "outputs": [
    {
     "name": "stdout",
     "output_type": "stream",
     "text": [
      "True\n",
      "True\n",
      "True\n",
      "True\n",
      "25\n",
      "False\n",
      "True\n"
     ]
    }
   ],
   "source": [
    "nums = [1, 2, 3]\n",
    "backup_nums = nums\n",
    "c_nums = list(backup_nums)\n",
    "\n",
    "print(backup_nums is nums)\n",
    "print(c_nums is not nums)\n",
    "print(nums == c_nums)\n",
    "\n",
    "a = None\n",
    "\n",
    "print(a == None)\n",
    "\n",
    "# Raising b to the power of a\n",
    "print( 5**2 )\n",
    "\n",
    "# Checking &\n",
    "print(True & False)\n",
    "\n",
    "# Checking |\n",
    "print(True | False)"
   ]
  },
  {
   "cell_type": "code",
   "execution_count": 65,
   "metadata": {},
   "outputs": [
    {
     "ename": "TypeError",
     "evalue": "'set' object does not support indexing",
     "output_type": "error",
     "traceback": [
      "\u001b[1;31m---------------------------------------------------------------------------\u001b[0m",
      "\u001b[1;31mTypeError\u001b[0m                                 Traceback (most recent call last)",
      "\u001b[1;32m<ipython-input-65-b96ceb4131ba>\u001b[0m in \u001b[0;36m<module>\u001b[1;34m()\u001b[0m\n\u001b[0;32m      1\u001b[0m \u001b[0mmy_set\u001b[0m \u001b[1;33m=\u001b[0m \u001b[1;33m{\u001b[0m\u001b[1;36m1\u001b[0m\u001b[1;33m,\u001b[0m \u001b[1;36m2\u001b[0m\u001b[1;33m,\u001b[0m \u001b[1;36m3\u001b[0m\u001b[1;33m}\u001b[0m\u001b[1;33m\u001b[0m\u001b[0m\n\u001b[1;32m----> 2\u001b[1;33m \u001b[0mprint\u001b[0m\u001b[1;33m(\u001b[0m\u001b[0mmy_set\u001b[0m\u001b[1;33m[\u001b[0m\u001b[1;36m1\u001b[0m\u001b[1;33m]\u001b[0m\u001b[1;33m)\u001b[0m\u001b[1;33m\u001b[0m\u001b[0m\n\u001b[0m",
      "\u001b[1;31mTypeError\u001b[0m: 'set' object does not support indexing"
     ]
    }
   ],
   "source": [
    "my_set = {1, 2, 3}\n",
    "print(my_set[1])"
   ]
  },
  {
   "cell_type": "code",
   "execution_count": 68,
   "metadata": {},
   "outputs": [
    {
     "name": "stdout",
     "output_type": "stream",
     "text": [
      "8.79 ms ± 1.26 ms per loop (mean ± std. dev. of 7 runs, 100 loops each)\n"
     ]
    }
   ],
   "source": [
    "%timeit [i for i in range(100000)]"
   ]
  },
  {
   "cell_type": "code",
   "execution_count": 93,
   "metadata": {},
   "outputs": [
    {
     "name": "stdout",
     "output_type": "stream",
     "text": [
      "26254519291092456596965462913230729701102721\n",
      "<class 'float'>\n",
      "3\n",
      "5.6\n",
      "<class 'str'>\n",
      "2\n",
      "this\\has\\no\\special\\characters\\n\n",
      "4.57 Argentine Pesos are worth $1\n",
      "b'espa\\xc3\\xb1ol'\n",
      "<class 'bytes'>\n",
      "<class 'str'>\n",
      "<class 'NoneType'>\n"
     ]
    }
   ],
   "source": [
    "ival = 17239871\n",
    "print(ival**6)\n",
    "\n",
    "fval = 7.243\n",
    "fval2 = 6.78e-5\n",
    "print(type(fval2))\n",
    "\n",
    "c = \"\"\"\n",
    "This is a long string\n",
    "that spans multiple lines\n",
    "\"\"\"\n",
    "\n",
    "print(c.count('\\n'))\n",
    "\n",
    "a = 5.6\n",
    "s = str(a)\n",
    "print(s)\n",
    "print(type(s))\n",
    "\n",
    "print(eval('4//2'))\n",
    "\n",
    "print(r\"this\\has\\no\\special\\characters\\n\")\n",
    "\n",
    "template = \"{0:.2f} {1:s} are worth ${2:d}\"\n",
    "print(template.format(4.5660, 'Argentine Pesos', 1))\n",
    "\n",
    "val = 'español'\n",
    "val_utf8 = val.encode('utf-8')\n",
    "print(val_utf8)\n",
    "print(type(val_utf8))\n",
    "\n",
    "bytes_val = b'this is bytes'\n",
    "print(type(bytes_val.decode('utf-8')))\n",
    "\n",
    "print(type(None))"
   ]
  },
  {
   "cell_type": "code",
   "execution_count": 112,
   "metadata": {},
   "outputs": [
    {
     "name": "stdout",
     "output_type": "stream",
     "text": [
      "2011-10-23 22:21:00\n",
      "23\n",
      "10\n",
      "2011\n",
      "<class 'datetime.date'>\n",
      "2011-10-23\n",
      "<class 'datetime.time'>\n",
      "22:21:00\n",
      "10/23/11 22:21\n",
      "<class 'datetime.datetime'>\n",
      "383 days, 10:10:37\n"
     ]
    },
    {
     "data": {
      "text/plain": [
       "datetime.timedelta"
      ]
     },
     "execution_count": 112,
     "metadata": {},
     "output_type": "execute_result"
    }
   ],
   "source": [
    "# date and time in python3\n",
    "\n",
    "from datetime import datetime, date, time\n",
    "\n",
    "dt = datetime(2011, 10, 23, 22, 21)\n",
    "print(dt)\n",
    "\n",
    "# Extracting individual values from datetime instance created above\n",
    "print(dt.day)\n",
    "print(dt.month)\n",
    "print(dt.year)\n",
    "\n",
    "# Creating date objects from datetime instances\n",
    "print(type(dt.date()))\n",
    "print(dt.date())\n",
    "\n",
    "# Creating time objects from dateime instances\n",
    "print(type(dt.time()))\n",
    "print(dt.time())\n",
    "\n",
    "# Formating datetime instance as a formtted string using strftime()\n",
    "print(dt.strftime('%m/%d/%y %H:%M'))\n",
    "\n",
    "# Creating a datetime instance from string using strptime()\n",
    "s_dt = datetime.strptime('20091031', '%Y%m%d')\n",
    "print(type(s_dt))\n",
    "\n",
    "# Replacing minute and second fields of a datetime instance\n",
    "dt2 = datetime(2010, 10, 5, 12, 10, 23)\n",
    "dt2.replace(minute=0, second=0)\n",
    "\n",
    "# Time Delta retuned from difference of two datetime objects\n",
    "delta = dt - dt2\n",
    "print(delta)\n",
    "type(delta)"
   ]
  },
  {
   "cell_type": "code",
   "execution_count": 116,
   "metadata": {},
   "outputs": [
    {
     "name": "stdout",
     "output_type": "stream",
     "text": [
      "Out of bounds\n"
     ]
    }
   ],
   "source": [
    "# Control flow\n",
    "\n",
    "value = int(input(\"please choose a number\"))\n",
    "\n",
    "if value < 0:\n",
    "    print('it\\'s a negative value')\n",
    "elif value == 0:\n",
    "    print('Equal to zero')\n",
    "elif 0 < value < 5:\n",
    "    print('value is positive but less than 5')\n",
    "else:\n",
    "    print('Out of bounds')\n",
    "    "
   ]
  },
  {
   "cell_type": "code",
   "execution_count": 118,
   "metadata": {},
   "outputs": [
    {
     "name": "stdout",
     "output_type": "stream",
     "text": [
      "15\n"
     ]
    }
   ],
   "source": [
    "# Iterations using for loop in python\n",
    "\n",
    "sequence = [1, 2, 3, 0, 4, 2, 3]\n",
    "total_until_five = 0\n",
    "\n",
    "for value in sequence:\n",
    "    if value == 5:\n",
    "        break\n",
    "    total_until_five += value\n",
    "\n",
    "print(total_until_five)"
   ]
  },
  {
   "cell_type": "code",
   "execution_count": 121,
   "metadata": {},
   "outputs": [
    {
     "name": "stdout",
     "output_type": "stream",
     "text": [
      "a 0\n",
      "b 1\n",
      "c 2\n",
      "d 3\n",
      "e 4\n",
      "f 5\n",
      "g 6\n",
      "h 7\n",
      "i 8\n",
      "j 9\n",
      "k 10\n",
      "l 11\n",
      "m 12\n",
      "n 13\n",
      "o 14\n",
      "p 15\n",
      "q 16\n",
      "r 17\n",
      "s 18\n",
      "t 19\n",
      "u 20\n",
      "v 21\n",
      "w 22\n",
      "x 23\n",
      "y 24\n",
      "z 25\n"
     ]
    }
   ],
   "source": [
    "alphabets = \"abcdefghijklmnopqrstuvwxyz\"\n",
    "numbers = [i for i in range(26)]\n",
    "\n",
    "my_dict = {key:value for key, value in zip(alphabets, numbers)}\n",
    "\n",
    "for key, value in zip(alphabets, numbers):\n",
    "    print(key, value)\n"
   ]
  },
  {
   "cell_type": "code",
   "execution_count": 123,
   "metadata": {},
   "outputs": [
    {
     "name": "stdout",
     "output_type": "stream",
     "text": [
      "1 2 3\n"
     ]
    }
   ],
   "source": [
    "a, b, c = [1, 2, 3]\n",
    "print(a, b, c)"
   ]
  },
  {
   "cell_type": "code",
   "execution_count": 125,
   "metadata": {},
   "outputs": [
    {
     "name": "stdout",
     "output_type": "stream",
     "text": [
      "504\n"
     ]
    }
   ],
   "source": [
    "# Using while loops as iterator\n",
    "\n",
    "x = 256\n",
    "total = 0\n",
    "while x > 0:\n",
    "    if total > 500:\n",
    "        break\n",
    "    total += x\n",
    "    x = x // 2\n",
    "    \n",
    "print(total)"
   ]
  },
  {
   "cell_type": "code",
   "execution_count": 127,
   "metadata": {},
   "outputs": [
    {
     "data": {
      "text/plain": [
       "range(0, 10)"
      ]
     },
     "execution_count": 127,
     "metadata": {},
     "output_type": "execute_result"
    }
   ],
   "source": [
    "# Creating range objects\n",
    "range(10)"
   ]
  },
  {
   "cell_type": "code",
   "execution_count": 130,
   "metadata": {},
   "outputs": [
    {
     "name": "stdout",
     "output_type": "stream",
     "text": [
      "[0, 1, 2, 3, 4, 5, 6, 7, 8, 9]\n"
     ]
    }
   ],
   "source": [
    "print(list(range(10)))"
   ]
  },
  {
   "cell_type": "code",
   "execution_count": 131,
   "metadata": {},
   "outputs": [
    {
     "name": "stdout",
     "output_type": "stream",
     "text": [
      "greater\n"
     ]
    }
   ],
   "source": [
    "# Ternary operations \n",
    "x = 5 \n",
    "print('greater') if x < 6 else 'Noops'"
   ]
  }
 ],
 "metadata": {
  "kernelspec": {
   "display_name": "Python 3",
   "language": "python",
   "name": "python3"
  },
  "language_info": {
   "codemirror_mode": {
    "name": "ipython",
    "version": 3
   },
   "file_extension": ".py",
   "mimetype": "text/x-python",
   "name": "python",
   "nbconvert_exporter": "python",
   "pygments_lexer": "ipython3",
   "version": "3.6.5"
  }
 },
 "nbformat": 4,
 "nbformat_minor": 2
}
